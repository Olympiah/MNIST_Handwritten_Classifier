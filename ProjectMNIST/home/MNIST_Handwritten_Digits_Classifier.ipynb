{
 "cells": [
  {
   "cell_type": "markdown",
   "metadata": {},
   "source": [
    "# Introduction\n",
    "\n",
    "In this project, you will build a neural network of your own design to evaluate the MNIST dataset.\n",
    "\n",
    "Some of the benchmark results on MNIST include can be found [on Yann LeCun's page](http://yann.lecun.com/exdb/mnist/) and include:\n",
    "\n",
    "88% [Lecun et al., 1998](http://yann.lecun.com/exdb/publis/pdf/lecun-98.pdf)\n",
    "95.3% [Lecun et al., 1998](http://yann.lecun.com/exdb/publis/pdf/lecun-98.pdf)\n",
    "99.65% [Ciresan et al., 2011](http://people.idsia.ch/~juergen/ijcai2011.pdf)\n",
    "\n",
    "MNIST is a great dataset for sanity checking your models, since the accuracy levels achieved by large convolutional neural networks and small linear models are both quite high. This makes it important to be familiar with the data.\n",
    "\n",
    "## Imports"
   ]
  },
  {
   "cell_type": "code",
   "execution_count": 4,
   "metadata": {},
   "outputs": [],
   "source": [
    "## This cell contains the essential imports you will need – DO NOT CHANGE THE CONTENTS! ##\n",
    "import torch\n",
    "import torch.nn as nn\n",
    "import torch.nn.functional as F\n",
    "import torch.optim as optim\n",
    "import torchvision\n",
    "import torchvision.transforms as transforms\n",
    "import matplotlib.pyplot as plt\n",
    "import numpy as np"
   ]
  },
  {
   "cell_type": "markdown",
   "metadata": {},
   "source": [
    "## Load the Dataset\n",
    "\n",
    "Specify your transforms as a list if you intend to .\n",
    "The transforms module is already loaded as `transforms`.\n",
    "\n",
    "MNIST is fortunately included in the torchvision module.\n",
    "Then, you can create your dataset using the `MNIST` object from `torchvision.datasets` ([the documentation is available here](https://pytorch.org/vision/stable/datasets.html#mnist)).\n",
    "Make sure to specify `download=True`! \n",
    "\n",
    "Once your dataset is created, you'll also need to define a `DataLoader` from the `torch.utils.data` module for both the train and the test set."
   ]
  },
  {
   "cell_type": "code",
   "execution_count": 5,
   "metadata": {},
   "outputs": [
    {
     "name": "stdout",
     "output_type": "stream",
     "text": [
      "Defaulting to user installation because normal site-packages is not writeable\n",
      "Collecting ipywidgets\n",
      "  Downloading ipywidgets-8.0.6-py3-none-any.whl (138 kB)\n",
      "\u001b[K     |████████████████████████████████| 138 kB 4.5 MB/s eta 0:00:01\n",
      "\u001b[?25hRequirement already satisfied: ipykernel>=4.5.1 in /opt/conda/lib/python3.7/site-packages (from ipywidgets) (5.1.4)\n",
      "Collecting jupyterlab-widgets~=3.0.7\n",
      "  Downloading jupyterlab_widgets-3.0.7-py3-none-any.whl (198 kB)\n",
      "\u001b[K     |████████████████████████████████| 198 kB 13.3 MB/s eta 0:00:01\n",
      "\u001b[?25hRequirement already satisfied: traitlets>=4.3.1 in /opt/conda/lib/python3.7/site-packages (from ipywidgets) (4.3.3)\n",
      "Collecting widgetsnbextension~=4.0.7\n",
      "  Downloading widgetsnbextension-4.0.7-py3-none-any.whl (2.1 MB)\n",
      "\u001b[K     |████████████████████████████████| 2.1 MB 20.3 MB/s eta 0:00:01\n",
      "\u001b[?25hRequirement already satisfied: ipython>=6.1.0 in /opt/conda/lib/python3.7/site-packages (from ipywidgets) (7.13.0)\n",
      "Requirement already satisfied: tornado>=4.2 in /opt/conda/lib/python3.7/site-packages (from ipykernel>=4.5.1->ipywidgets) (5.1.1)\n",
      "Requirement already satisfied: jupyter-client in /opt/conda/lib/python3.7/site-packages (from ipykernel>=4.5.1->ipywidgets) (6.0.0)\n",
      "Requirement already satisfied: six in /opt/conda/lib/python3.7/site-packages (from traitlets>=4.3.1->ipywidgets) (1.16.0)\n",
      "Requirement already satisfied: ipython-genutils in /opt/conda/lib/python3.7/site-packages (from traitlets>=4.3.1->ipywidgets) (0.2.0)\n",
      "Requirement already satisfied: decorator in /opt/conda/lib/python3.7/site-packages (from traitlets>=4.3.1->ipywidgets) (4.4.2)\n",
      "Requirement already satisfied: pickleshare in /opt/conda/lib/python3.7/site-packages (from ipython>=6.1.0->ipywidgets) (0.7.5)\n",
      "Requirement already satisfied: jedi>=0.10 in /opt/conda/lib/python3.7/site-packages (from ipython>=6.1.0->ipywidgets) (0.16.0)\n",
      "Requirement already satisfied: backcall in /opt/conda/lib/python3.7/site-packages (from ipython>=6.1.0->ipywidgets) (0.1.0)\n",
      "Requirement already satisfied: pexpect; sys_platform != \"win32\" in /opt/conda/lib/python3.7/site-packages (from ipython>=6.1.0->ipywidgets) (4.8.0)\n",
      "Requirement already satisfied: setuptools>=18.5 in /opt/conda/lib/python3.7/site-packages (from ipython>=6.1.0->ipywidgets) (45.2.0.post20200209)\n",
      "Requirement already satisfied: prompt-toolkit!=3.0.0,!=3.0.1,<3.1.0,>=2.0.0 in /opt/conda/lib/python3.7/site-packages (from ipython>=6.1.0->ipywidgets) (3.0.3)\n",
      "Requirement already satisfied: pygments in /opt/conda/lib/python3.7/site-packages (from ipython>=6.1.0->ipywidgets) (2.5.2)\n",
      "Requirement already satisfied: python-dateutil>=2.1 in /opt/conda/lib/python3.7/site-packages (from jupyter-client->ipykernel>=4.5.1->ipywidgets) (2.8.1)\n",
      "Requirement already satisfied: pyzmq>=13 in /opt/conda/lib/python3.7/site-packages (from jupyter-client->ipykernel>=4.5.1->ipywidgets) (19.0.0)\n",
      "Requirement already satisfied: jupyter-core>=4.6.0 in /opt/conda/lib/python3.7/site-packages (from jupyter-client->ipykernel>=4.5.1->ipywidgets) (4.6.3)\n",
      "Requirement already satisfied: parso>=0.5.2 in /opt/conda/lib/python3.7/site-packages (from jedi>=0.10->ipython>=6.1.0->ipywidgets) (0.6.1)\n",
      "Requirement already satisfied: ptyprocess>=0.5 in /opt/conda/lib/python3.7/site-packages (from pexpect; sys_platform != \"win32\"->ipython>=6.1.0->ipywidgets) (0.6.0)\n",
      "Requirement already satisfied: wcwidth in /opt/conda/lib/python3.7/site-packages (from prompt-toolkit!=3.0.0,!=3.0.1,<3.1.0,>=2.0.0->ipython>=6.1.0->ipywidgets) (0.1.8)\n",
      "Installing collected packages: jupyterlab-widgets, widgetsnbextension, ipywidgets\n",
      "Successfully installed ipywidgets-8.0.6 jupyterlab-widgets-3.0.7 widgetsnbextension-4.0.7\n",
      "Enabling notebook extension jupyter-js-widgets/extension...\n",
      "      - Validating: \u001b[32mOK\u001b[0m\n"
     ]
    }
   ],
   "source": [
    "!pip install ipywidgets\n",
    "!jupyter nbextension enable --py widgetsnbextension"
   ]
  },
  {
   "cell_type": "code",
   "execution_count": 1,
   "metadata": {},
   "outputs": [],
   "source": [
    "from ipywidgets import FloatProgress"
   ]
  },
  {
   "cell_type": "code",
   "execution_count": 2,
   "metadata": {},
   "outputs": [],
   "source": [
    "import torch\n",
    "import torch.nn as nn\n",
    "import torch.nn.functional as F\n",
    "import torch.optim as optim\n",
    "import torchvision\n",
    "import torchvision.transforms as transforms\n",
    "import matplotlib.pyplot as plt\n",
    "import numpy as np"
   ]
  },
  {
   "cell_type": "code",
   "execution_count": 3,
   "metadata": {},
   "outputs": [
    {
     "name": "stdout",
     "output_type": "stream",
     "text": [
      "torch.Size([1, 28, 28])\n",
      "torch.Size([1, 28, 28])\n"
     ]
    },
    {
     "name": "stderr",
     "output_type": "stream",
     "text": [
      "/opt/conda/lib/python3.7/site-packages/torchvision/datasets/mnist.py:498: UserWarning: The given NumPy array is not writable, and PyTorch does not support non-writable tensors. This means writing to this tensor will result in undefined behavior. You may want to copy the array to protect its data or make it writable before converting it to a tensor. This type of warning will be suppressed for the rest of this program. (Triggered internally at  ../torch/csrc/utils/tensor_numpy.cpp:178.)\n",
      "  return torch.from_numpy(parsed.astype(m[2], copy=False)).view(*s)\n"
     ]
    }
   ],
   "source": [
    "from torch.utils.data import DataLoader\n",
    "\n",
    "# Define transforms\n",
    "transform = transforms.Compose([transforms.ToTensor(),\n",
    "#                                 transforms.Lambda(torch.flatten),\n",
    "                                transforms.Normalize((0.5,),(0.5,))])\n",
    "\n",
    "# Create training set and define training dataloader\n",
    "train_data = torchvision.datasets.MNIST(root = 'data',train=True,\n",
    "             transform = transform,download=True)\n",
    "\n",
    "print(train_data[0][0].shape)\n",
    "\n",
    "train_loader = DataLoader(train_data, batch_size= 64, shuffle = True)\n",
    "\n",
    "# Create test set and define test dataloader\n",
    "test_data = torchvision.datasets.MNIST(root = 'data',train=False,\n",
    "            transform = transform, download=True)\n",
    "\n",
    "print(test_data[0][0].shape)\n",
    "\n",
    "test_loader = DataLoader(test_data, batch_size= 64,shuffle = True)\n"
   ]
  },
  {
   "cell_type": "markdown",
   "metadata": {},
   "source": [
    "## Justify your preprocessing\n",
    "\n",
    "In your own words, why did you choose the transforms you chose? If you didn't use any preprocessing steps, why not?\n",
    "\n",
    "**I chose to convert the data to Tensor because Pytorch works with tensors...\n",
    "Furthermore, i decided to renormalize in order to change the pixels between -1 and +1, which is preferred by most activation functions**"
   ]
  },
  {
   "cell_type": "markdown",
   "metadata": {},
   "source": [
    "**DOUBLE CLICK THIS CELL TO MODIFY**"
   ]
  },
  {
   "cell_type": "markdown",
   "metadata": {},
   "source": [
    "## Explore the Dataset\n",
    "Using matplotlib, numpy, and torch, explore the dimensions of your data.\n",
    "\n",
    "You can view images using the `show5` function defined below – it takes a data loader as an argument.\n",
    "Remember that normalized images will look really weird to you! You may want to try changing your transforms to view images.\n",
    "Typically using no transforms other than `toTensor()` works well for viewing – but not as well for training your network.\n",
    "If `show5` doesn't work, go back and check your code for creating your data loaders and your training/test sets."
   ]
  },
  {
   "cell_type": "code",
   "execution_count": 4,
   "metadata": {},
   "outputs": [],
   "source": [
    "## This cell contains a function for showing 5 images from a dataloader – DO NOT CHANGE THE CONTENTS! ##\n",
    "def show5(img_loader):\n",
    "    dataiter = iter(img_loader)\n",
    "    \n",
    "    batch = next(dataiter)\n",
    "    labels = batch[1][0:5]\n",
    "    images = batch[0][0:5]\n",
    "    \n",
    "    print(f\"number of images{images.shape}\")\n",
    "    print(f\"number of labels {labels.shape}\")\n",
    "    for i in range(5):\n",
    "        print(int(labels[i].detach()))\n",
    "    \n",
    "        image = images[i].numpy()\n",
    "        plt.imshow(image.T.squeeze().T)\n",
    "        plt.show()"
   ]
  },
  {
   "cell_type": "code",
   "execution_count": 5,
   "metadata": {},
   "outputs": [
    {
     "name": "stdout",
     "output_type": "stream",
     "text": [
      "number of imagestorch.Size([5, 1, 28, 28])\n",
      "number of labels torch.Size([5])\n",
      "9\n"
     ]
    },
    {
     "data": {
      "image/png": "[encoded data removed]",
      "text/plain": [
       "<Figure size 432x288 with 1 Axes>"
      ]
     },
     "metadata": {
      "needs_background": "light"
     },
     "output_type": "display_data"
    },
    {
     "name": "stdout",
     "output_type": "stream",
     "text": [
      "5\n"
     ]
    },
    {
     "data": {
      "image/png": "[encoded data removed]",
      "text/plain": [
       "<Figure size 432x288 with 1 Axes>"
      ]
     },
     "metadata": {
      "needs_background": "light"
     },
     "output_type": "display_data"
    },
    {
     "name": "stdout",
     "output_type": "stream",
     "text": [
      "0\n"
     ]
    },
    {
     "data": {
      "image/png": "[encoded data removed]",
      "text/plain": [
       "<Figure size 432x288 with 1 Axes>"
      ]
     },
     "metadata": {
      "needs_background": "light"
     },
     "output_type": "display_data"
    },
    {
     "name": "stdout",
     "output_type": "stream",
     "text": [
      "5\n"
     ]
    },
    {
     "data": {
      "image/png": "[encoded data removed]",
      "text/plain": [
       "<Figure size 432x288 with 1 Axes>"
      ]
     },
     "metadata": {
      "needs_background": "light"
     },
     "output_type": "display_data"
    },
    {
     "name": "stdout",
     "output_type": "stream",
     "text": [
      "9\n"
     ]
    },
    {
     "data": {
      "image/png": "[encoded data removed]",
      "text/plain": [
       "<Figure size 432x288 with 1 Axes>"
      ]
     },
     "metadata": {
      "needs_background": "light"
     },
     "output_type": "display_data"
    }
   ],
   "source": [
    "# Explore data\n",
    "\n",
    "show5(train_loader)"
   ]
  },
  {
   "cell_type": "code",
   "execution_count": 6,
   "metadata": {},
   "outputs": [],
   "source": [
    "# obtain one batch of training images\n",
    "dataiter = iter(train_loader)\n",
    "images, labels = dataiter.next()\n",
    "images = images.numpy()"
   ]
  },
  {
   "cell_type": "code",
   "execution_count": 7,
   "metadata": {},
   "outputs": [
    {
     "data": {
      "image/png": "[encoded data removed]",
      "text/plain": [
       "<Figure size 864x864 with 1 Axes>"
      ]
     },
     "metadata": {
      "needs_background": "light"
     },
     "output_type": "display_data"
    }
   ],
   "source": [
    "img = np.squeeze(images[1])\n",
    "\n",
    "fig = plt.figure(figsize = (12,12)) \n",
    "ax = fig.add_subplot(111)\n",
    "ax.imshow(img)\n",
    "width, height = img.shape\n",
    "thresh = img.max()/2.5\n",
    "for x in range(width):\n",
    "    for y in range(height):\n",
    "        val = round(img[x][y],2) if img[x][y] !=0 else 0\n",
    "        ax.annotate(str(val), xy=(y,x),\n",
    "                    horizontalalignment='center',\n",
    "                    verticalalignment='center',\n",
    "                    color='white' if img[x][y]<thresh else 'black')"
   ]
  },
  {
   "cell_type": "markdown",
   "metadata": {},
   "source": [
    "# WITH FLATTENING"
   ]
  },
  {
   "cell_type": "code",
   "execution_count": 12,
   "metadata": {},
   "outputs": [],
   "source": [
    "# from torch.utils.data import DataLoader\n",
    "\n",
    "# # Define transforms\n",
    "# transform1 = transforms.Compose([transforms.ToTensor(),\n",
    "#                                 transforms.Lambda(torch.flatten),\n",
    "#                                 transforms.Normalize((0.5,),(0.5,))])\n",
    "\n",
    "# # Create training set and define training dataloader\n",
    "# train_data1 = torchvision.datasets.MNIST(root = 'data',train=True,\n",
    "#              transform = transform1,download=True)\n",
    "\n",
    "# # print(train_data1[0][0].shape)\n",
    "\n",
    "# train_loader1 = DataLoader(train_data1, batch_size= 64, shuffle = True)\n",
    "\n",
    "# # Create test set and define test dataloader\n",
    "# test_data1 = torchvision.datasets.MNIST(root = 'data',train=False,\n",
    "#             transform = transform1, download=True)\n",
    "\n",
    "# # print(test_data1[0][0].shape)\n",
    "\n",
    "# test_loader1 = DataLoader(test_data1, batch_size= 64,shuffle = True)\n"
   ]
  },
  {
   "cell_type": "code",
   "execution_count": 13,
   "metadata": {},
   "outputs": [],
   "source": [
    "# show5(train_loader1)"
   ]
  },
  {
   "cell_type": "markdown",
   "metadata": {},
   "source": [
    "## Build your Neural Network\n",
    "Using the layers in `torch.nn` (which has been imported as `nn`) and the `torch.nn.functional` module (imported as `F`), construct a neural network based on the parameters of the dataset.\n",
    "Use any architecture you like. \n",
    "\n",
    "*Note*: If you did not flatten your tensors in your transforms or as part of your preprocessing and you are using only `Linear` layers, make sure to use the `Flatten` layer in your network!"
   ]
  },
  {
   "cell_type": "code",
   "execution_count": 6,
   "metadata": {},
   "outputs": [],
   "source": [
    "class Net(nn.Module):\n",
    "    def __init__(self):\n",
    "        super().__init__()\n",
    "        # the input layer(1d vector of 28*28) \n",
    "        self.fc1 = nn.Linear(28 * 28, 128)\n",
    "        # 1st hidden layer\n",
    "        self.fc2 = nn.Linear(128, 64)\n",
    "        # 2nd hidden layer\n",
    "        self.fc3 = nn.Linear(64, 32)\n",
    "        #3rd hidden layer to output\n",
    "        self.fc4 = nn.Linear(32, 10)\n",
    "        # dropout layer (p=0.2)\n",
    "        self.dropout = nn.Dropout(0.2)\n",
    "    \n",
    "    def forward(self,x):\n",
    "        \n",
    "        #flattening the img input\n",
    "        x = torch.flatten(x, 1)\n",
    "        \n",
    "        x = F.relu(self.fc1(x))\n",
    "        x = self.dropout(x)\n",
    "        x = F.relu(self.fc2(x))\n",
    "        x = self.dropout(x)\n",
    "        x = F.relu(self.fc3(x))\n",
    "        x = self.dropout(x)\n",
    "        \n",
    "        x = self.fc4(x) #output\n",
    "        return x\n",
    "        \n",
    "        \n",
    "                        \n"
   ]
  },
  {
   "cell_type": "code",
   "execution_count": 7,
   "metadata": {},
   "outputs": [
    {
     "name": "stdout",
     "output_type": "stream",
     "text": [
      "<bound method Module.parameters of Net(\n",
      "  (fc1): Linear(in_features=784, out_features=128, bias=True)\n",
      "  (fc2): Linear(in_features=128, out_features=64, bias=True)\n",
      "  (fc3): Linear(in_features=64, out_features=32, bias=True)\n",
      "  (fc4): Linear(in_features=32, out_features=10, bias=True)\n",
      "  (dropout): Dropout(p=0.2, inplace=False)\n",
      ")>\n"
     ]
    }
   ],
   "source": [
    "model = Net()\n",
    "print(model.parameters)"
   ]
  },
  {
   "cell_type": "markdown",
   "metadata": {},
   "source": [
    "Specify a loss function and an optimizer, and instantiate the model.\n",
    "\n",
    "If you use a less common loss function, please note why you chose that loss function in a comment."
   ]
  },
  {
   "cell_type": "code",
   "execution_count": 8,
   "metadata": {},
   "outputs": [],
   "source": [
    "#Stochastic gradient descent\n",
    "optimizer = optim.SGD(model.parameters(), lr = 0.02, momentum = 0.9)\n",
    "\n",
    "#Due to multi-class model\n",
    "criterion = nn.CrossEntropyLoss()"
   ]
  },
  {
   "cell_type": "markdown",
   "metadata": {},
   "source": [
    "## Running your Neural Network\n",
    "Use whatever method you like to train your neural network, and ensure you record the average loss at each epoch. \n",
    "Don't forget to use `torch.device()` and the `.to()` method for both your model and your data if you are using GPU!\n",
    "\n",
    "If you want to print your loss **during** each epoch, you can use the `enumerate` function and print the loss after a set number of batches. 250 batches works well for most people!"
   ]
  },
  {
   "cell_type": "code",
   "execution_count": 9,
   "metadata": {},
   "outputs": [],
   "source": [
    "# Establish a list for our history(implementation of early_stopping)\n",
    "train_loss_history = list()\n",
    "val_loss_history = list()\n",
    "\n",
    "def train_model(net, epochs = 50, learning_rate = 0.02, optimizer = optimizer,criterion = criterion):\n",
    "    #epochs- the number of times you loop through the dataset\n",
    "#     # Establish a list for our history(implementation of early_stopping)\n",
    "#     train_loss_history = list()\n",
    "#     val_loss_history = list()\n",
    "    \n",
    "    #setting best_val_loss \n",
    "    best_val_loss = float(\"inf\")\n",
    "    \n",
    "    #Threshold for min performance improvement\n",
    "    thresh = 0.001\n",
    "    \n",
    "    #below thresh count\n",
    "    below_thresh = 0\n",
    "    \n",
    "    #limit to no. of epochs below thresh\n",
    "    limit = 2\n",
    "    \n",
    "    print(\"Training process initializing .....\\n\")\n",
    "    \n",
    "    #Iterating over the number of epochs\n",
    "    \n",
    "    for epoch in range(epochs): # for every epochs in the range do the following below\n",
    "        net.train() # entering training mode, activates Dropout layers\n",
    "        \n",
    "        #set training loss to zero\n",
    "        train_loss = 0.0\n",
    "        \n",
    "        #setting num of correct pred to 0\n",
    "        train_correct = 0\n",
    "        \n",
    "        #inputs are in form of images  N/B: the data var containes one batch of 64\n",
    "        for idx, data in enumerate(train_loader):\n",
    "            #getting actual inputs\n",
    "            inputs, labels = data\n",
    "            \n",
    "            #moving the inputs n labels to GPU device if available\n",
    "            if torch.cuda.is_available():\n",
    "                inputs, labels = inputs.cuda(), labels.cuda()\n",
    "            \n",
    "            #zeros all gradients on each training parts to avoid accumulation of gradients.\n",
    "            optimizer.zero_grad()\n",
    "            \n",
    "            #outputs is the log probabilities of the categories/classes\n",
    "            outputs = net(inputs)\n",
    "            \n",
    "            #calculating the losses\n",
    "            loss = criterion(outputs, labels)\n",
    "            \n",
    "            #calculating the gradients with respect to the params\n",
    "            loss.backward()\n",
    "            \n",
    "            #updating the weights\n",
    "            optimizer.step()\n",
    "            \n",
    "            #geting class predictions from the outputs\n",
    "            _, preds = torch.max(outputs.data, 1)\n",
    "            \n",
    "            #update the no of correct predictions for epoch\n",
    "            train_correct += (preds == labels).sum().item()\n",
    "            \n",
    "            #updating the running loss\n",
    "            train_loss += loss.item()\n",
    "            \n",
    "        #printing running accuracy and loss \n",
    "        print(f'Epoch {epoch + 1} Training accuracy: {train_correct/len(train_loader): .3f}% Training loss: {train_loss/len(train_loader): .4f}')\n",
    "        \n",
    "        train_loss_history.append(train_loss/len(train_loader))\n",
    "        #Performing validation\n",
    "        val_loss = 0.0\n",
    "        val_correct = 0\n",
    "        \n",
    "        #Notifying the layers you are entering evaluation mode\n",
    "        net.eval() #de-activates Dropout layers\n",
    "        \n",
    "        # deativates autograd thus disabling gradients calculation(reduces memory consumption)\n",
    "        with torch.no_grad():\n",
    "            for inputs, labels in test_loader: # acts as the validation loader though its from the test dataset\n",
    "                    if torch.cuda.is_available():\n",
    "                        inputs, labels = inputs.cuba(), labels.cuda() \n",
    "                            \n",
    "                        logps = model.forward(inputs)\n",
    "                        batch_loss = criterion(logps, labels)\n",
    "                    \n",
    "                    outputs = net(inputs)\n",
    "                    \n",
    "                    loss = criterion(outputs, labels)\n",
    "                    \n",
    "                    _, preds = torch.max(outputs.data, 1)\n",
    "                    \n",
    "                    val_correct += (preds == labels).sum().item()\n",
    "                    \n",
    "                    val_loss += loss.item()\n",
    "              \n",
    "            #Print validation\n",
    "            print(f'Epoch {epoch + 1} Validation accuracy: {val_correct/len(test_loader): .3f}%  Validation loss:{val_loss/len(test_loader): .4f}')\n",
    "            val_loss_history.append(val_loss/len(test_loader))  \n",
    "            \n",
    "            #Calculating diff btwn best_val_loss n current\n",
    "            diff = best_val_loss - val_loss\n",
    "            \n",
    "            #set val loss to the current val_loss if small\n",
    "            if best_val_loss > val_loss:\n",
    "                best_val_loss = val_loss\n",
    "            \n",
    "            # checking if diff is below thresh\n",
    "            if diff <= thresh:\n",
    "                below_thresh +=1\n",
    "                #check if thresh > limit\n",
    "                if below_thresh >= limit:\n",
    "                    break\n",
    "                \n",
    "        #Returning back to training mode\n",
    "        net.train()\n",
    "        \n",
    "    \n",
    "    print('Your Training is DONE!!!')       \n",
    "                     \n",
    "    \n",
    "\n",
    "        \n",
    "    "
   ]
  },
  {
   "cell_type": "code",
   "execution_count": 10,
   "metadata": {},
   "outputs": [
    {
     "name": "stdout",
     "output_type": "stream",
     "text": [
      "Training process initializing .....\n",
      "\n",
      "Epoch 1 Training accuracy:  51.584% Training loss:  0.6181\n",
      "Epoch 1 Validation accuracy:  59.210%  Validation loss: 0.2301\n",
      "Epoch 2 Training accuracy:  57.983% Training loss:  0.3222\n",
      "Epoch 2 Validation accuracy:  60.261%  Validation loss: 0.1877\n",
      "Epoch 3 Training accuracy:  59.141% Training loss:  0.2661\n",
      "Epoch 3 Validation accuracy:  60.777%  Validation loss: 0.1575\n",
      "Epoch 4 Training accuracy:  59.711% Training loss:  0.2330\n",
      "Epoch 4 Validation accuracy:  61.076%  Validation loss: 0.1371\n",
      "Epoch 5 Training accuracy:  60.197% Training loss:  0.2111\n",
      "Epoch 5 Validation accuracy:  61.083%  Validation loss: 0.1337\n",
      "Epoch 6 Training accuracy:  60.499% Training loss:  0.1934\n",
      "Epoch 6 Validation accuracy:  61.529%  Validation loss: 0.1147\n",
      "Epoch 7 Training accuracy:  60.693% Training loss:  0.1838\n",
      "Epoch 7 Validation accuracy:  61.439%  Validation loss: 0.1194\n",
      "Epoch 8 Training accuracy:  60.837% Training loss:  0.1725\n",
      "Epoch 8 Validation accuracy:  61.484%  Validation loss: 0.1264\n",
      "Your Training is DONE!!!\n"
     ]
    }
   ],
   "source": [
    "train_model(model)"
   ]
  },
  {
   "cell_type": "markdown",
   "metadata": {},
   "source": [
    "Plot the training loss (and validation loss/accuracy, if recorded)."
   ]
  },
  {
   "cell_type": "code",
   "execution_count": 11,
   "metadata": {},
   "outputs": [
    {
     "data": {
      "image/png": "[encoded data removed]",
      "text/plain": [
       "<Figure size 432x288 with 1 Axes>"
      ]
     },
     "metadata": {
      "needs_background": "light"
     },
     "output_type": "display_data"
    }
   ],
   "source": [
    "# Plot the training and validation loss history\n",
    "plt.plot(train_loss_history, label=\"Training Loss\")\n",
    "plt.plot(val_loss_history, label=\"Validation Loss\")\n",
    "plt.legend()\n",
    "plt.show()"
   ]
  },
  {
   "cell_type": "markdown",
   "metadata": {},
   "source": [
    "**Thanks to the implementation of early stopping, I have managed to save on training time with little or no improvement in the losses**\n",
    "\n",
    "**Furthermore, from the plotted graph it is clear that we have a good model since both training loss and validation loss are decreasing but its clearly Underfitting**"
   ]
  },
  {
   "cell_type": "markdown",
   "metadata": {},
   "source": [
    "## Testing your model\n",
    "Using the previously created `DataLoader` for the test set, compute the percentage of correct predictions using the highest probability prediction. \n",
    "\n",
    "If your accuracy is over 90%, great work, but see if you can push a bit further! \n",
    "If your accuracy is under 90%, you'll need to make improvements.\n",
    "Go back and check your model architecture, loss function, and optimizer to make sure they're appropriate for an image classification task."
   ]
  },
  {
   "cell_type": "code",
   "execution_count": 18,
   "metadata": {},
   "outputs": [
    {
     "name": "stdout",
     "output_type": "stream",
     "text": [
      "Accuracy: nan, Loss: nan\n"
     ]
    }
   ],
   "source": [
    "# def test():\n",
    "#     model.train(False)  # ensure we're in eval mode\n",
    "\n",
    "#     test_loss = []\n",
    "#     test_acc = []\n",
    "    \n",
    "#     for X,y in test_loader: #X,y is the image and label\n",
    "#         with torch.no_grad():\n",
    "#             X, y = X.to(device = 'GPU'), y.to(device = 'GPU')\n",
    "#             predictions = model(X.reshape(X.shape[0], -1))\n",
    "\n",
    "#             loss = criterion(predictions, y)\n",
    "#             test_loss.append(loss.item())\n",
    "\n",
    "#             test_acc.append((predictions.argmax(dim=1).cpu().numpy() == y.cpu().numpy()).mean())\n",
    "\n",
    "# print(f'Accuracy: {np.mean(test_acc):.2f}, Loss: {np.mean(test_loss):.2f}')"
   ]
  },
  {
   "cell_type": "code",
   "execution_count": 23,
   "metadata": {},
   "outputs": [],
   "source": [
    "batch_size = 10"
   ]
  },
  {
   "cell_type": "code",
   "execution_count": 24,
   "metadata": {},
   "outputs": [
    {
     "name": "stdout",
     "output_type": "stream",
     "text": [
      "Test Loss: 0.126983\n",
      "\n",
      "Test Accuracy of     0: 100% (152/152)\n",
      "Test Accuracy of     1: 98% (173/175)\n",
      "Test Accuracy of     2: 99% (166/167)\n",
      "Test Accuracy of     3: 95% (160/168)\n",
      "Test Accuracy of     4: 97% (144/147)\n",
      "Test Accuracy of     5: 90% (131/145)\n",
      "Test Accuracy of     6: 97% (139/142)\n",
      "Test Accuracy of     7: 93% (151/161)\n",
      "Test Accuracy of     8: 94% (160/169)\n",
      "Test Accuracy of     9: 93% (134/144)\n",
      "\n",
      "Test Accuracy (Overall): 96% (1510/1570)\n"
     ]
    }
   ],
   "source": [
    "# initialize lists to monitor test loss and accuracy\n",
    "test_loss = 0.0\n",
    "class_correct = list(0. for i in range(10))\n",
    "class_total = list(0. for i in range(10))\n",
    "\n",
    "model.eval() # prep model for training\n",
    "\n",
    "for data, target in test_loader:\n",
    "    # forward pass: compute predicted outputs by passing inputs to the model\n",
    "    output = model(data)\n",
    "    # calculate the loss\n",
    "    loss = criterion(output, target)\n",
    "    # update test loss \n",
    "    test_loss += loss.item()*data.size(0)\n",
    "    # convert output probabilities to predicted class\n",
    "    _, pred = torch.max(output, 1)\n",
    "    # compare predictions to true label\n",
    "    correct = np.squeeze(pred.eq(target.data.view_as(pred)))\n",
    "    # calculate test accuracy for each object class\n",
    "    for i in range(batch_size):\n",
    "        label = target.data[i]\n",
    "        class_correct[label] += correct[i].item()\n",
    "        class_total[label] += 1\n",
    "\n",
    "# calculate and print avg test loss\n",
    "test_loss = test_loss/len(test_loader.dataset)\n",
    "print('Test Loss: {:.6f}\\n'.format(test_loss))\n",
    "\n",
    "for i in range(10):\n",
    "    if class_total[i] > 0:\n",
    "        print('Test Accuracy of %5s: %2d%% (%2d/%2d)' % (\n",
    "            str(i), 100 * class_correct[i] / class_total[i],\n",
    "            np.sum(class_correct[i]), np.sum(class_total[i])))\n",
    "    else:\n",
    "        print('Test Accuracy of %5s: N/A (no training examples)' % (classes[i]))\n",
    "\n",
    "print('\\nTest Accuracy (Overall): %2d%% (%2d/%2d)' % (100. * np.sum(class_correct) / np.sum(class_total),\n",
    "      np.sum(class_correct), np.sum(class_total)))"
   ]
  },
  {
   "cell_type": "code",
   "execution_count": null,
   "metadata": {},
   "outputs": [],
   "source": []
  },
  {
   "cell_type": "markdown",
   "metadata": {},
   "source": [
    "## Improving your model\n",
    "\n",
    "Once your model is done training, try tweaking your hyperparameters and training again below to improve your accuracy on the test set!"
   ]
  },
  {
   "cell_type": "markdown",
   "metadata": {},
   "source": [
    "**Hyperparameter Tuning**\n",
    "\n",
    "1. Introducing Regulaization with weight_decay = 0.001\n",
    "2. Changing the learning rate i.e lr = 0.01\n",
    "3. Adding a generator with random seed for consistency.\n",
    "4. Changing the hidden layer constructor fn.\n",
    "5. Splitting the dataset into Train, validation and test set\n",
    "6. Increasing the number of epochs"
   ]
  },
  {
   "cell_type": "markdown",
   "metadata": {},
   "source": [
    "# 1.Splitting the data into Test,Validation and Training set"
   ]
  },
  {
   "cell_type": "code",
   "execution_count": 4,
   "metadata": {},
   "outputs": [],
   "source": [
    "#Splitting the train_data into 80% for training and 20% for Validation\n",
    "\n",
    "train_len = int(len(train_data)*0.8)\n",
    "val_len = len(train_data) - train_len\n",
    "\n",
    "# print(f'Using {train_len} for training and {val_len} for Validation')\n",
    "\n",
    "train_dataset, validation_dataset = torch.utils.data.random_split(train_data,[train_len,val_len],generator = torch.Generator().manual_seed(42))\n",
    "\n"
   ]
  },
  {
   "cell_type": "code",
   "execution_count": 5,
   "metadata": {},
   "outputs": [
    {
     "name": "stderr",
     "output_type": "stream",
     "text": [
      "/opt/conda/lib/python3.7/site-packages/torch/utils/data/dataloader.py:490: UserWarning: This DataLoader will create 2 worker processes in total. Our suggested max number of worker in current system is 1, which is smaller than what this DataLoader is going to create. Please be aware that excessive worker creation might get DataLoader running slow or even freeze, lower the worker number to avoid potential slowness/freeze if necessary.\n",
      "  cpuset_checked))\n"
     ]
    }
   ],
   "source": [
    "#Creating the datasets\n",
    "\n",
    "train_loader = torch.utils.data.DataLoader(dataset = train_dataset,shuffle=True,batch_size = 64,num_workers = 2)\n",
    "\n",
    "valid_loader = torch.utils.data.DataLoader(dataset = validation_dataset,shuffle=False, batch_size = 64, num_workers = 2)"
   ]
  },
  {
   "cell_type": "code",
   "execution_count": 6,
   "metadata": {},
   "outputs": [
    {
     "name": "stdout",
     "output_type": "stream",
     "text": [
      "Using 10000 for testing\n"
     ]
    }
   ],
   "source": [
    "print(f\"Using {len(test_data)} for testing\")"
   ]
  },
  {
   "cell_type": "markdown",
   "metadata": {},
   "source": [
    "# 2. Visualization (EDA)"
   ]
  },
  {
   "cell_type": "code",
   "execution_count": 7,
   "metadata": {},
   "outputs": [
    {
     "data": {
      "image/png": "[encoded data removed]",
      "text/plain": [
       "<Figure size 1800x288 with 20 Axes>"
      ]
     },
     "metadata": {
      "needs_background": "light"
     },
     "output_type": "display_data"
    }
   ],
   "source": [
    "# import matplotlib.pyplot as plt\n",
    "%matplotlib inline\n",
    "    \n",
    "# obtain one batch of training images\n",
    "dataiter = iter(train_loader)\n",
    "images, labels = dataiter.next()\n",
    "images = images.numpy()\n",
    "\n",
    "# plot the images in the batch, along with the corresponding labels\n",
    "fig, subs = plt.subplots(2, 10, figsize=(25, 4))\n",
    "for idx, sub in zip(np.arange(20), subs.flatten()):\n",
    "    sub.imshow(np.squeeze(images[idx]), cmap='gray')\n",
    "    # print out the correct label for each image\n",
    "    \n",
    "    # .item() gets the value contained in a Tensor\n",
    "    sub.set_title(str(labels[idx].item()))\n",
    "    sub.axis(\"off\")"
   ]
  },
  {
   "cell_type": "code",
   "execution_count": 8,
   "metadata": {},
   "outputs": [
    {
     "data": {
      "image/png": "[encoded data removed]",
      "text/plain": [
       "<Figure size 864x864 with 1 Axes>"
      ]
     },
     "metadata": {
      "needs_background": "light"
     },
     "output_type": "display_data"
    }
   ],
   "source": [
    "#Viewing an image \n",
    "img = np.squeeze(images[1])\n",
    "\n",
    "fig = plt.figure(figsize = (12,12)) \n",
    "ax = fig.add_subplot(111)\n",
    "ax.imshow(img)\n",
    "width, height = img.shape\n",
    "thresh = img.max()/2.5\n",
    "for x in range(width):\n",
    "    for y in range(height):\n",
    "        val = round(img[x][y],2) if img[x][y] !=0 else 0\n",
    "        ax.annotate(str(val), xy=(y,x),\n",
    "                    horizontalalignment='center',\n",
    "                    verticalalignment='center',\n",
    "                    color='white' if img[x][y]<thresh else 'black')"
   ]
  },
  {
   "cell_type": "markdown",
   "metadata": {},
   "source": [
    "**From above we can clearly see that the image pixels are bewen -1 and +1 as a reseult of transformation**"
   ]
  },
  {
   "cell_type": "markdown",
   "metadata": {},
   "source": [
    "# Defining the Network Architecture"
   ]
  },
  {
   "cell_type": "code",
   "execution_count": 9,
   "metadata": {},
   "outputs": [],
   "source": [
    "import torch.nn.functional as F\n",
    "\n",
    "class MLP(nn.Module):\n",
    "    def __init__(self):\n",
    "        super().__init__()\n",
    "        #Formula for output = (input+output)/2\n",
    "            \n",
    "        # 1st layer(input)\n",
    "        self.fc1 = nn.Linear(28*28, 400)\n",
    "        #dropout\n",
    "        self.dropout1 = nn.Dropout(0.2)\n",
    "        #2nd hidden layer\n",
    "        self.fc2 = nn.Linear(400,200)\n",
    "        #dropout\n",
    "        self.dropout2 = nn.Dropout(0.2)\n",
    "        #output layer\n",
    "        self.output = nn.Linear(200,10)\n",
    "            \n",
    "    def forward(self,x):\n",
    "        #flattening\n",
    "        x = torch.flatten(x, 1)\n",
    "        \n",
    "        #adding ReLU as the activation function\n",
    "        x = F.relu(self.fc1(x))\n",
    "        #dropout layer\n",
    "        x = self.dropout1(x)\n",
    "        #adding ReLU as the activation function\n",
    "        x = F.relu(self.fc2(x))\n",
    "        #dropout layer\n",
    "        x = self.dropout2(x)\n",
    "        x = self.output(x)\n",
    "        \n",
    "        return x        \n",
    "    \n",
    "            \n",
    "    "
   ]
  },
  {
   "cell_type": "code",
   "execution_count": 10,
   "metadata": {},
   "outputs": [],
   "source": [
    "#Initialize\n",
    "\n",
    "model = MLP()"
   ]
  },
  {
   "cell_type": "code",
   "execution_count": 11,
   "metadata": {},
   "outputs": [
    {
     "data": {
      "text/plain": [
       "<bound method Module.parameters of MLP(\n",
       "  (fc1): Linear(in_features=784, out_features=400, bias=True)\n",
       "  (dropout1): Dropout(p=0.2, inplace=False)\n",
       "  (fc2): Linear(in_features=400, out_features=200, bias=True)\n",
       "  (dropout2): Dropout(p=0.2, inplace=False)\n",
       "  (output): Linear(in_features=200, out_features=10, bias=True)\n",
       ")>"
      ]
     },
     "execution_count": 11,
     "metadata": {},
     "output_type": "execute_result"
    }
   ],
   "source": [
    "model.parameters"
   ]
  },
  {
   "cell_type": "markdown",
   "metadata": {},
   "source": [
    "# 3. Specifying Loss and Optimizer function"
   ]
  },
  {
   "cell_type": "code",
   "execution_count": 12,
   "metadata": {},
   "outputs": [],
   "source": [
    "#Stochastic gradient descent\n",
    "optimizer = optim.SGD(model.parameters(), lr = 0.01, momentum = 0.9, weight_decay = 0.001)\n",
    "\n",
    "#Due to multi-class model\n",
    "criterion = nn.CrossEntropyLoss()"
   ]
  },
  {
   "cell_type": "markdown",
   "metadata": {},
   "source": [
    "# 4.Training the Network"
   ]
  },
  {
   "cell_type": "code",
   "execution_count": 13,
   "metadata": {},
   "outputs": [],
   "source": [
    "# Establish a list for our history(implementation of early_stopping)\n",
    "train_loss_history = list()\n",
    "val_loss_history = list()\n",
    "\n",
    "def train_model(net, epochs = 50, learning_rate = 0.01, optimizer = optimizer,criterion = criterion):\n",
    "    #epochs- the number of times you loop through the dataset\n",
    "    \n",
    "    #setting best_val_loss \n",
    "    best_val_loss = float(\"inf\")\n",
    "    \n",
    "    #Threshold for min performance improvement\n",
    "    thresh = 0.001\n",
    "    \n",
    "    #below thresh count\n",
    "    below_thresh = 0\n",
    "    \n",
    "    #limit to no. of epochs below thresh\n",
    "    limit = 2\n",
    "    \n",
    "    print(\"Training process initializing .....\\n\")\n",
    "    \n",
    "    #Iterating over the number of epochs\n",
    "    \n",
    "    for epoch in range(epochs): # for every epochs in the range do the following below\n",
    "        net.train() # entering training mode, activates Dropout layers\n",
    "        \n",
    "        #set training loss to zero\n",
    "        train_loss = 0.0\n",
    "        \n",
    "        #setting num of correct pred to 0\n",
    "        train_correct = 0\n",
    "        \n",
    "        #inputs are in form of images  N/B: the data var containes one batch of 64\n",
    "        for idx, data in enumerate(train_loader):\n",
    "            #getting actual inputs\n",
    "            #inputs = batch_indexes and labels = img,target\n",
    "            inputs, labels = data\n",
    "            \n",
    "            #moving the inputs n labels to GPU device if available\n",
    "            if torch.cuda.is_available():\n",
    "                inputs, labels = inputs.cuda(), labels.cuda()\n",
    "            \n",
    "            #zeros all gradients on each training parts to avoid accumulation of gradients.\n",
    "            optimizer.zero_grad()\n",
    "            \n",
    "            #outputs is the log probabilities of the categories/classes\n",
    "            output = net(inputs)\n",
    "            \n",
    "            #calculating the losses\n",
    "            loss = criterion(output, labels)\n",
    "            \n",
    "            #calculating the gradients with respect to the params\n",
    "            loss.backward()\n",
    "            \n",
    "            #updating the weights\n",
    "            optimizer.step()\n",
    "            \n",
    "            #geting class predictions from the outputs\n",
    "            _, preds = torch.max(output.data, 1)\n",
    "            \n",
    "            #update the no of correct predictions for epoch\n",
    "            train_correct += (preds == labels).sum().item()\n",
    "            \n",
    "            #updating the running loss\n",
    "            train_loss += loss.item()\n",
    "            \n",
    "        #printing running accuracy and loss \n",
    "        print(f'Epoch {epoch + 1} Training Accuracy: {train_correct/len(train_loader): .3f}% Training loss: {train_loss/len(train_loader): .4f}')\n",
    "        \n",
    "        train_loss_history.append(train_loss/len(train_loader))\n",
    "        \n",
    "        \n",
    "        #Performing Validation\n",
    "        val_loss = 0.0\n",
    "        val_correct = 0\n",
    "        \n",
    "        #Notifying the layers you are entering evaluation mode\n",
    "        net.eval() #de-activates Dropout layers\n",
    "        \n",
    "        # deativates autograd thus disabling gradients calculation(reduces memory consumption)\n",
    "        with torch.no_grad():\n",
    "            for inputs, labels in valid_loader: # acts as the validation loader though its from the test dataset\n",
    "                    if torch.cuda.is_available():\n",
    "                        inputs, labels = inputs.cuba(), labels.cuda() \n",
    "                            \n",
    "                        logps = model.forward(inputs)\n",
    "                        batch_loss = criterion(logps, labels)\n",
    "                    \n",
    "                    output = net(inputs)\n",
    "                    \n",
    "                    loss = criterion(output, labels)\n",
    "                    \n",
    "                    _, preds = torch.max(output.data, 1)\n",
    "                    \n",
    "                    val_correct += (preds == labels).sum().item()\n",
    "                    \n",
    "                    val_loss += loss.item()\n",
    "              \n",
    "            #Print validation\n",
    "            print(f'Epoch {epoch + 1} Validation Accuracy: {val_correct/len(valid_loader): .3f}%  Validation loss:{val_loss/len(valid_loader): .4f}')\n",
    "            val_loss_history.append(val_loss/len(test_loader))  \n",
    "            \n",
    "            #Calculating diff btwn best_val_loss n current\n",
    "            diff = best_val_loss - val_loss\n",
    "            \n",
    "            #set val loss to the current val_loss if small\n",
    "            if best_val_loss > val_loss:\n",
    "                best_val_loss = val_loss\n",
    "            \n",
    "            # checking if diff is below thresh\n",
    "            if diff <= thresh:\n",
    "                below_thresh +=1\n",
    "                #check if thresh > limit\n",
    "                if below_thresh >= limit:\n",
    "                    break\n",
    "                \n",
    "        #Returning back to training mode\n",
    "        net.train()\n",
    "        \n",
    "    \n",
    "    print('Your Training is DONE!!!')       \n",
    "                     \n",
    "    \n"
   ]
  },
  {
   "cell_type": "code",
   "execution_count": 14,
   "metadata": {},
   "outputs": [
    {
     "name": "stdout",
     "output_type": "stream",
     "text": [
      "Training process initializing .....\n",
      "\n",
      "Epoch 1 Training Accuracy:  54.279% Training loss:  0.4966\n",
      "Epoch 1 Validation Accuracy:  59.138%  Validation loss: 0.2427\n",
      "Epoch 2 Training Accuracy:  59.619% Training loss:  0.2205\n",
      "Epoch 2 Validation Accuracy:  60.787%  Validation loss: 0.1661\n",
      "Epoch 3 Training Accuracy:  60.687% Training loss:  0.1673\n",
      "Epoch 3 Validation Accuracy:  61.053%  Validation loss: 0.1380\n",
      "Epoch 4 Training Accuracy:  61.259% Training loss:  0.1421\n",
      "Epoch 4 Validation Accuracy:  61.367%  Validation loss: 0.1282\n",
      "Epoch 5 Training Accuracy:  61.536% Training loss:  0.1245\n",
      "Epoch 5 Validation Accuracy:  61.383%  Validation loss: 0.1280\n",
      "Epoch 6 Training Accuracy:  61.796% Training loss:  0.1127\n",
      "Epoch 6 Validation Accuracy:  61.803%  Validation loss: 0.1072\n",
      "Epoch 7 Training Accuracy:  61.925% Training loss:  0.1024\n",
      "Epoch 7 Validation Accuracy:  61.894%  Validation loss: 0.1004\n",
      "Epoch 8 Training Accuracy:  62.112% Training loss:  0.0952\n",
      "Epoch 8 Validation Accuracy:  61.947%  Validation loss: 0.0994\n",
      "Epoch 9 Training Accuracy:  62.177% Training loss:  0.0913\n",
      "Epoch 9 Validation Accuracy:  61.798%  Validation loss: 0.1048\n",
      "Epoch 10 Training Accuracy:  62.271% Training loss:  0.0857\n",
      "Epoch 10 Validation Accuracy:  62.271%  Validation loss: 0.0857\n",
      "Epoch 11 Training Accuracy:  62.436% Training loss:  0.0804\n",
      "Epoch 11 Validation Accuracy:  62.069%  Validation loss: 0.0930\n",
      "Your Training is DONE!!!\n"
     ]
    }
   ],
   "source": [
    "train_model(model)"
   ]
  },
  {
   "cell_type": "code",
   "execution_count": 15,
   "metadata": {},
   "outputs": [
    {
     "data": {
      "image/png": "[encoded data removed]",
      "text/plain": [
       "<Figure size 432x288 with 1 Axes>"
      ]
     },
     "metadata": {
      "needs_background": "light"
     },
     "output_type": "display_data"
    }
   ],
   "source": [
    "# Plot the training and validation loss history\n",
    "plt.plot(train_loss_history, label=\"Training Loss\")\n",
    "plt.plot(val_loss_history, label=\"Validation Loss\")\n",
    "plt.legend()\n",
    "plt.show()"
   ]
  },
  {
   "cell_type": "markdown",
   "metadata": {},
   "source": [
    "**We can see an improvement**"
   ]
  },
  {
   "cell_type": "markdown",
   "metadata": {},
   "source": [
    "# 5. Testing the model"
   ]
  },
  {
   "cell_type": "code",
   "execution_count": 17,
   "metadata": {},
   "outputs": [
    {
     "name": "stdout",
     "output_type": "stream",
     "text": [
      "Test Loss: 0.085715\n",
      "\n",
      "Test Accuracy of     0: 99% (972/980)\n",
      "Test Accuracy of     1: 98% (1121/1135)\n",
      "Test Accuracy of     2: 97% (1010/1032)\n",
      "Test Accuracy of     3: 97% (983/1010)\n",
      "Test Accuracy of     4: 97% (959/982)\n",
      "Test Accuracy of     5: 97% (868/892)\n",
      "Test Accuracy of     6: 98% (942/958)\n",
      "Test Accuracy of     7: 96% (995/1028)\n",
      "Test Accuracy of     8: 97% (947/974)\n",
      "Test Accuracy of     9: 92% (937/1009)\n",
      "\n",
      "Test Accuracy (Overall): 97% (9734/10000)\n"
     ]
    }
   ],
   "source": [
    "# initialize lists to monitor test loss and accuracy\n",
    "test_loss = 0.0\n",
    "class_correct = list(0. for i in range(10))\n",
    "class_total = list(0. for i in range(10))\n",
    "\n",
    "model.eval() # prep model for training\n",
    "\n",
    "for data, target in test_loader:\n",
    "    # forward pass: compute predicted outputs\n",
    "    output = model(data)\n",
    "    # calculate the loss\n",
    "    loss = criterion(output, target)\n",
    "    # update test loss \n",
    "    test_loss += loss.item()*data.size(0)\n",
    "    # convert output probabilities to predicted class scores\n",
    "    _, pred = torch.max(output, 1)\n",
    "    # compare predictions to true label\n",
    "    correct = np.squeeze(pred.eq(target.data.view_as(pred)))\n",
    "    # calculate test accuracy for each object class\n",
    "    for i in range(data.shape[0]):\n",
    "        label = target.data[i]\n",
    "        class_correct[label] += correct[i].item()\n",
    "        class_total[label] += 1\n",
    "\n",
    "# calculate and print avg test loss\n",
    "test_loss = test_loss/len(test_loader.dataset)\n",
    "\n",
    "print('Test Loss: {:.6f}\\n'.format(test_loss))\n",
    "\n",
    "for i in range(10): #recall the number of classes are 10\n",
    "    if class_total[i] > 0:\n",
    "        print('Test Accuracy of %5s: %2d%% (%2d/%2d)' % (str(i), 100 * class_correct[i] / class_total[i],\n",
    "            np.sum(class_correct[i]), np.sum(class_total[i])))\n",
    "    else:\n",
    "        print('Test Accuracy of %5s: N/A (no training examples)' % (classes[i]))\n",
    "\n",
    "print('\\nTest Accuracy (Overall): %2d%% (%2d/%2d)' % (100. * np.sum(class_correct) / np.sum(class_total),\n",
    "      np.sum(class_correct), np.sum(class_total)))"
   ]
  },
  {
   "cell_type": "markdown",
   "metadata": {},
   "source": [
    "**From above we can clearly see 1% improvemnt in Test Accuracy as compared to the previous model**\n",
    "\n",
    "**Also we have achieved a smaller Test loss as compared to the result with the previous model.**"
   ]
  },
  {
   "cell_type": "markdown",
   "metadata": {},
   "source": [
    "## Saving your model\n",
    "Using `torch.save`, save your model for future loading."
   ]
  },
  {
   "cell_type": "code",
   "execution_count": null,
   "metadata": {},
   "outputs": [],
   "source": [
    "# saved_model = torch.save(model, '.')\n",
    "model_scripted = torch.jit.script(model) # Export to TorchScript\n",
    "model_scripted.save('model_save.pt') # Save"
   ]
  },
  {
   "cell_type": "code",
   "execution_count": 24,
   "metadata": {},
   "outputs": [],
   "source": [
    "torch.save(model, 'model_1.pt')"
   ]
  },
  {
   "cell_type": "code",
   "execution_count": null,
   "metadata": {},
   "outputs": [],
   "source": []
  }
 ],
 "metadata": {
  "kernelspec": {
   "display_name": "Python 3",
   "language": "python",
   "name": "python3"
  },
  "language_info": {
   "codemirror_mode": {
    "name": "ipython",
    "version": 3
   },
   "file_extension": ".py",
   "mimetype": "text/x-python",
   "name": "python",
   "nbconvert_exporter": "python",
   "pygments_lexer": "ipython3",
   "version": "3.7.6"
  }
 },
 "nbformat": 4,
 "nbformat_minor": 4
}
